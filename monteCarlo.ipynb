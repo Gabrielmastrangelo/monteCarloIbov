{
 "cells": [
  {
   "cell_type": "markdown",
   "metadata": {},
   "source": [
    "Importando Bibliotecas"
   ]
  },
  {
   "cell_type": "code",
   "execution_count": 8,
   "metadata": {},
   "outputs": [],
   "source": [
    "import pandas_datareader.data as web\n",
    "import datetime as dt\n",
    "import time\n",
    "\n",
    "import numpy as np\n",
    "import matplotlib.mlab as m\n",
    "import random as r\n",
    "import matplotlib.pyplot as fig\n",
    "import math "
   ]
  },
  {
   "cell_type": "markdown",
   "metadata": {},
   "source": [
    "Lendo os arquivos"
   ]
  },
  {
   "cell_type": "code",
   "execution_count": 9,
   "metadata": {
    "scrolled": true
   },
   "outputs": [
    {
     "name": "stdout",
     "output_type": "stream",
     "text": [
      "               High      Low     Open    Close    Volume  Adj Close\n",
      "Date                                                               \n",
      "2020-10-01  95486.0  93599.0  94604.0  95479.0   9243500    95479.0\n",
      "2020-10-02  95996.0  93897.0  95475.0  94016.0   8584900    94016.0\n",
      "2020-10-05  96414.0  93984.0  94019.0  96089.0   8616000    96089.0\n",
      "2020-10-06  97405.0  95211.0  96091.0  95615.0  11299600    95615.0\n",
      "2020-10-07  96380.0  94881.0  95616.0  95526.0   9829900    95526.0\n"
     ]
    }
   ],
   "source": [
    "#Pega os ultimos 60 dias\n",
    "diasPeriodo = 90\n",
    "\n",
    "fim = dt.date.today() #Data inicio dos dados que iremos coletar\n",
    "inicio = fim - dt.timedelta(days=diasPeriodo)   #Data final dos dados que iremos coletar\n",
    "\n",
    "y = web.DataReader('^BVSP', 'yahoo', inicio, fim) #Carrega os dados em um data frame\n",
    "\n",
    "print(y.head())"
   ]
  },
  {
   "cell_type": "markdown",
   "metadata": {},
   "source": [
    "Faz a regressão linear, e calcula o residuo"
   ]
  },
  {
   "cell_type": "code",
   "execution_count": 10,
   "metadata": {
    "scrolled": true
   },
   "outputs": [
    {
     "data": {
      "text/plain": [
       "Text(0.5, 1.0, 'IBOV + Regressão ')"
      ]
     },
     "execution_count": 10,
     "metadata": {},
     "output_type": "execute_result"
    },
    {
     "data": {
      "image/png": "[encoded data removed]",
      "text/plain": [
       "<Figure size 432x288 with 1 Axes>"
      ]
     },
     "metadata": {
      "needs_background": "light"
     },
     "output_type": "display_data"
    }
   ],
   "source": [
    "lin = len(y.Close) #Número de linhas\n",
    "delta = m.detrend_linear(y['Close']) #Residuo\n",
    "delta = abs(delta)\n",
    "\n",
    "x = np.linspace(1, lin, lin) #Inicializa o array\n",
    "coef = np.polyfit(x, y.Close, 1) #Pega os coeficientes da regressão\n",
    "\n",
    "linhaTend = x * coef[0] + coef[1] #Cria a linha de tendência\n",
    "\n",
    "y[\"Linha Tendencia\"] = linhaTend\n",
    "\n",
    "\n",
    "#fig.plot(linhaTend,'--k')\n",
    "fig.plot(y.Close)\n",
    "fig.plot(y[\"Linha Tendencia\"])\n",
    "fig.gcf().autofmt_xdate()\n",
    "fig.title('IBOV + Regressão ')"
   ]
  },
  {
   "cell_type": "markdown",
   "metadata": {},
   "source": [
    "Faz uma simulação de Monte Carlo"
   ]
  },
  {
   "cell_type": "code",
   "execution_count": 11,
   "metadata": {},
   "outputs": [],
   "source": [
    "monteCarlo = []\n",
    "\n",
    "reta = 0\n",
    "aleat = 0\n",
    "sm = 0\n",
    "desvio = delta.std()\n",
    "\n",
    "for i in range(100):\n",
    "    monteCarlo.append([])\n",
    "\n",
    "for z in range(lin):\n",
    "    for i in range(100):\n",
    "        reta = (z+1) * coef[0] + coef[1]\n",
    "        aleat = r.random()  #Gera um valor aleatório entr 0 e 1 (Uniforme)\n",
    "        sm = reta + ((-2*desvio)+(4*desvio*aleat))\n",
    "        monteCarlo[i].append(sm)"
   ]
  },
  {
   "cell_type": "markdown",
   "metadata": {},
   "source": [
    "Estatisticas com a simulação"
   ]
  },
  {
   "cell_type": "code",
   "execution_count": 12,
   "metadata": {},
   "outputs": [
    {
     "name": "stdout",
     "output_type": "stream",
     "text": [
      "\n",
      "\n",
      "================Estatisticas Monte Carlo================\n",
      "\n",
      "Média      119125.78\n",
      "Desvio      1805.15\n",
      "Otimista   119486.81\n",
      "Pessimista 118764.75\n"
     ]
    }
   ],
   "source": [
    "length = len(monteCarlo)\n",
    "lastDados = np.zeros(length)\n",
    "\n",
    "for i in range(100):\n",
    "    lastDados[i] = monteCarlo[i][lin-1]\n",
    "\n",
    "Media = lastDados.mean()\n",
    "Desvio = lastDados.std()\n",
    "\n",
    "Otimista = Media + (2 * Desvio / math.sqrt(length))\n",
    "Pessimista = Media - (2 * Desvio / math.sqrt(length))\n",
    "\n",
    "print(\"\\n\\n================Estatisticas Monte Carlo================\\n\")\n",
    "print('Média      %8.2f' % Media)\n",
    "print('Desvio     %8.2f' %  Desvio)\n",
    "print('Otimista   %8.2f' % Otimista)\n",
    "print('Pessimista %8.2f' % Pessimista)"
   ]
  }
 ],
 "metadata": {
  "kernelspec": {
   "display_name": "Python 3",
   "language": "python",
   "name": "python3"
  },
  "language_info": {
   "codemirror_mode": {
    "name": "ipython",
    "version": 3
   },
   "file_extension": ".py",
   "mimetype": "text/x-python",
   "name": "python",
   "nbconvert_exporter": "python",
   "pygments_lexer": "ipython3",
   "version": "3.8.5"
  }
 },
 "nbformat": 4,
 "nbformat_minor": 4
}
