{
 "cells": [
  {
   "cell_type": "markdown",
   "metadata": {},
   "source": [
    "Importando Bibliotecas"
   ]
  },
  {
   "cell_type": "code",
   "execution_count": 74,
   "metadata": {},
   "outputs": [],
   "source": [
    "import pandas_datareader.data as web\n",
    "import datetime as dt\n",
    "import time\n",
    "\n",
    "import numpy as np\n",
    "import matplotlib.mlab as m\n",
    "import random as r\n",
    "import matplotlib.pyplot as fig\n",
    "import math "
   ]
  },
  {
   "cell_type": "markdown",
   "metadata": {},
   "source": [
    "Lendo os arquivos"
   ]
  },
  {
   "cell_type": "code",
   "execution_count": 82,
   "metadata": {
    "scrolled": true
   },
   "outputs": [
    {
     "name": "stdout",
     "output_type": "stream",
     "text": [
      "               High      Low     Open    Close    Volume  Adj Close\n",
      "Date                                                               \n",
      "2020-03-20  72247.0  66120.0  68344.0  67069.0  15152400    67069.0\n",
      "2020-03-23  67604.0  62161.0  67067.0  63570.0  11962200    63570.0\n",
      "2020-03-24  71535.0  63604.0  63604.0  69729.0  11679900    69729.0\n",
      "2020-03-25  76714.0  69360.0  69727.0  74956.0  12951100    74956.0\n",
      "2020-03-26  78846.0  74923.0  74956.0  77710.0  12758000    77710.0\n"
     ]
    }
   ],
   "source": [
    "hoje = str(dt.date.today()) #Pega a data de hoje\n",
    "\n",
    "#Pega o último ano\n",
    "#inicio = dt.datetime(int(hoje[0:4])-1,int(hoje[5:7]),int(hoje[8:10])) #Data inicio dos dados que iremos coletar\n",
    "#fim = dt.datetime(int(hoje[0:4]),int(hoje[5:7]),int(hoje[8:10])) #Data final dos dados que iremos coletar\n",
    "\n",
    "inicio = dt.datetime(2020,3, 20)\n",
    "fim = dt.datetime(2020,12, 30)\n",
    "y = web.DataReader('^BVSP', 'yahoo', inicio, fim) #Carrega os dados em um data frame\n",
    "\n",
    "print(y.head())"
   ]
  },
  {
   "cell_type": "markdown",
   "metadata": {},
   "source": [
    "Faz a regressão linear, e calcula o residuo"
   ]
  },
  {
   "cell_type": "code",
   "execution_count": 89,
   "metadata": {
    "scrolled": true
   },
   "outputs": [
    {
     "data": {
      "text/plain": [
       "Text(0.5, 1.0, 'IBOV + Regressão ')"
      ]
     },
     "execution_count": 89,
     "metadata": {},
     "output_type": "execute_result"
    },
    {
     "data": {
      "image/png": "[encoded data removed]",
      "text/plain": [
       "<Figure size 432x288 with 1 Axes>"
      ]
     },
     "metadata": {
      "needs_background": "light"
     },
     "output_type": "display_data"
    }
   ],
   "source": [
    "lin = len(y.Close) #Número de linhas\n",
    "delta = m.detrend_linear(y['Close']) #Residuo\n",
    "\n",
    "x = np.linspace(1, lin, lin) #Inicializa o array\n",
    "coef = np.polyfit(x, y.Close, 1) #Pega os coeficientes da regressão\n",
    "\n",
    "linhaTend = x * coef[0] + coef[1] #Cria a linha de tendência\n",
    "\n",
    "y[\"Linha Tendencia\"] = linhaTend\n",
    "\n",
    "\n",
    "#fig.plot(linhaTend,'--k')\n",
    "fig.plot(y.Close)\n",
    "fig.plot(y[\"Linha Tendencia\"])\n",
    "fig.gcf().autofmt_xdate()\n",
    "fig.title('IBOV + Regressão ')"
   ]
  },
  {
   "cell_type": "markdown",
   "metadata": {},
   "source": [
    "Faz uma simulação de Monte Carlo"
   ]
  },
  {
   "cell_type": "code",
   "execution_count": 91,
   "metadata": {},
   "outputs": [],
   "source": [
    "monteCarlo = []\n",
    "\n",
    "reta = 0\n",
    "aleat = 0\n",
    "sm = 0\n",
    "\n",
    "for i in range(100):\n",
    "    monteCarlo.append([])\n",
    "\n",
    "for z in range(lin):\n",
    "    for i in range(100):\n",
    "        reta = (z+1) * coef[0] + coef[1]\n",
    "        aleat = r.random()  #Gera um valor aleatório entr 0 e 1 (Uniforme)\n",
    "        sm = reta + ((-2*desvio)+(4*desvio*aleat))\n",
    "        monteCarlo[i].append(sm)"
   ]
  },
  {
   "cell_type": "markdown",
   "metadata": {},
   "source": [
    "Estatisticas com a simulação"
   ]
  },
  {
   "cell_type": "code",
   "execution_count": 92,
   "metadata": {},
   "outputs": [
    {
     "name": "stdout",
     "output_type": "stream",
     "text": [
      "\n",
      "\n",
      "================Estatisticas Monte Carlo================\n",
      "\n",
      "Média      113889.69\n",
      "Desvio      3404.69\n",
      "Otimista   114570.62\n",
      "Pessimista 113208.75\n"
     ]
    }
   ],
   "source": [
    "length = len(monteCarlo)\n",
    "lastDados = np.zeros(length)\n",
    "\n",
    "for i in range(100):\n",
    "    lastDados[i] = monteCarlo[i][lin-1]\n",
    "\n",
    "Media = lastDados.mean()\n",
    "Desvio = lastDados.std()\n",
    "\n",
    "Otimista = Media + (2 * Desvio / math.sqrt(length))\n",
    "Pessimista = Media - (2 * Desvio / math.sqrt(length))\n",
    "\n",
    "print(\"\\n\\n================Estatisticas Monte Carlo================\\n\")\n",
    "print('Média      %8.2f' % Media)\n",
    "print('Desvio     %8.2f' %  Desvio)\n",
    "print('Otimista   %8.2f' % Otimista)\n",
    "print('Pessimista %8.2f' % Pessimista)"
   ]
  },
  {
   "cell_type": "code",
   "execution_count": null,
   "metadata": {},
   "outputs": [],
   "source": []
  }
 ],
 "metadata": {
  "kernelspec": {
   "display_name": "Python 3",
   "language": "python",
   "name": "python3"
  },
  "language_info": {
   "codemirror_mode": {
    "name": "ipython",
    "version": 3
   },
   "file_extension": ".py",
   "mimetype": "text/x-python",
   "name": "python",
   "nbconvert_exporter": "python",
   "pygments_lexer": "ipython3",
   "version": "3.8.5"
  }
 },
 "nbformat": 4,
 "nbformat_minor": 4
}
